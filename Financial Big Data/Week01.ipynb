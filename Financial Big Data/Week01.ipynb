{
 "cells": [
  {
   "cell_type": "code",
   "execution_count": 1,
   "metadata": {},
   "outputs": [
    {
     "data": {
      "text/plain": [
       "2"
      ]
     },
     "execution_count": 1,
     "metadata": {},
     "output_type": "execute_result"
    }
   ],
   "source": [
    "1 + 1"
   ]
  },
  {
   "cell_type": "code",
   "execution_count": 11,
   "metadata": {},
   "outputs": [
    {
     "name": "stdout",
     "output_type": "stream",
     "text": [
      "1 到 1000 之間\n"
     ]
    },
    {
     "name": "stdin",
     "output_type": "stream",
     "text": [
      "請猜數字: 500\n"
     ]
    },
    {
     "name": "stdout",
     "output_type": "stream",
     "text": [
      "500 到 1000 之間\n"
     ]
    },
    {
     "name": "stdin",
     "output_type": "stream",
     "text": [
      "請猜數字: 750\n"
     ]
    },
    {
     "name": "stdout",
     "output_type": "stream",
     "text": [
      "500 到 750 之間\n"
     ]
    },
    {
     "name": "stdin",
     "output_type": "stream",
     "text": [
      "請猜數字: 675\n"
     ]
    },
    {
     "name": "stdout",
     "output_type": "stream",
     "text": [
      "675 到 750 之間\n"
     ]
    },
    {
     "name": "stdin",
     "output_type": "stream",
     "text": [
      "請猜數字: 700\n"
     ]
    },
    {
     "name": "stdout",
     "output_type": "stream",
     "text": [
      "675 到 700 之間\n"
     ]
    },
    {
     "name": "stdin",
     "output_type": "stream",
     "text": [
      "請猜數字: 680\n"
     ]
    },
    {
     "name": "stdout",
     "output_type": "stream",
     "text": [
      "680 到 700 之間\n"
     ]
    },
    {
     "name": "stdin",
     "output_type": "stream",
     "text": [
      "請猜數字: 690\n"
     ]
    },
    {
     "name": "stdout",
     "output_type": "stream",
     "text": [
      "690 到 700 之間\n"
     ]
    },
    {
     "name": "stdin",
     "output_type": "stream",
     "text": [
      "請猜數字: 695\n"
     ]
    },
    {
     "name": "stdout",
     "output_type": "stream",
     "text": [
      "690 到 695 之間\n"
     ]
    },
    {
     "name": "stdin",
     "output_type": "stream",
     "text": [
      "請猜數字: 693\n"
     ]
    },
    {
     "name": "stdout",
     "output_type": "stream",
     "text": [
      "690 到 693 之間\n"
     ]
    },
    {
     "name": "stdin",
     "output_type": "stream",
     "text": [
      "請猜數字: 391\n"
     ]
    },
    {
     "name": "stdout",
     "output_type": "stream",
     "text": [
      "請不要亂輸入\n"
     ]
    },
    {
     "name": "stdin",
     "output_type": "stream",
     "text": [
      "請猜數字: 691\n"
     ]
    },
    {
     "name": "stdout",
     "output_type": "stream",
     "text": [
      "691 到 693 之間\n"
     ]
    },
    {
     "name": "stdin",
     "output_type": "stream",
     "text": [
      "請猜數字: 692\n"
     ]
    },
    {
     "name": "stdout",
     "output_type": "stream",
     "text": [
      "答對了, 猜數字紀錄:\n",
      "500\n",
      "750\n",
      "675\n",
      "700\n",
      "680\n",
      "690\n",
      "695\n",
      "693\n",
      "691\n",
      "692\n"
     ]
    }
   ],
   "source": [
    "import random\n",
    "guess = -1\n",
    "minN = 1\n",
    "maxN = 1000\n",
    "answer = random.randint( minN, maxN )\n",
    "hist = []\n",
    "while guess != answer:\n",
    "    print( minN, \"到\", maxN, \"之間\" )\n",
    "    while True:\n",
    "        try:\n",
    "            guess = int(input(\"請猜數字:\"))\n",
    "            if guess > minN and guess < maxN:\n",
    "                hist.append(guess)\n",
    "                break\n",
    "            print( \"請不要亂輸入\" )\n",
    "        except:\n",
    "            print( \"你懂數字嗎?!\" )\n",
    "    if guess < answer:\n",
    "        # print(\"大一點\")\n",
    "        minN = guess\n",
    "    elif guess > answer:\n",
    "        #print(\"小一點\")\n",
    "        maxN = guess\n",
    "    else:\n",
    "        print(\"答對了, 猜數字紀錄:\")\n",
    "        for g in hist:\n",
    "            print(g)\n",
    "    "
   ]
  }
 ],
 "metadata": {
  "kernelspec": {
   "display_name": "Python 3",
   "language": "python",
   "name": "python3"
  },
  "language_info": {
   "codemirror_mode": {
    "name": "ipython",
    "version": 3
   },
   "file_extension": ".py",
   "mimetype": "text/x-python",
   "name": "python",
   "nbconvert_exporter": "python",
   "pygments_lexer": "ipython3",
   "version": "3.7.4"
  }
 },
 "nbformat": 4,
 "nbformat_minor": 4
}
